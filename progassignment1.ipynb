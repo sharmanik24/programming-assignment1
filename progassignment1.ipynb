{
 "cells": [
  {
   "cell_type": "code",
   "execution_count": null,
   "id": "68262ae1-82aa-4451-9a6d-72881b837117",
   "metadata": {},
   "outputs": [],
   "source": [
    "1. Write a Python program to print \"Hello Python\"?"
   ]
  },
  {
   "cell_type": "code",
   "execution_count": 1,
   "id": "e24eede9-6830-40fc-8bb2-4b4b3d8a74c9",
   "metadata": {},
   "outputs": [
    {
     "name": "stdout",
     "output_type": "stream",
     "text": [
      "Hello Python\n"
     ]
    }
   ],
   "source": [
    "print(\"Hello Python\")\n"
   ]
  },
  {
   "cell_type": "code",
   "execution_count": null,
   "id": "93b76fd4-139a-4fd3-a491-8b24313785b2",
   "metadata": {},
   "outputs": [],
   "source": [
    "2. Write a Python program to do arithmetical operations addition and division.?"
   ]
  },
  {
   "cell_type": "code",
   "execution_count": 2,
   "id": "ed189af8-65e8-4ee8-8d4d-936b2634ddd0",
   "metadata": {},
   "outputs": [
    {
     "name": "stdin",
     "output_type": "stream",
     "text": [
      "Enter the value for a:  45\n",
      "enter the value for b:  56\n"
     ]
    },
    {
     "name": "stdout",
     "output_type": "stream",
     "text": [
      "answer for addition is:  101\n",
      "answer for division is:  0.8035714285714286\n"
     ]
    }
   ],
   "source": [
    "a=int(input(\"Enter the value for a: \"))\n",
    "b=int(input(\"enter the value for b: \"))\n",
    "#additon\n",
    "c=a+b\n",
    "print(\"answer for addition is: \", c)\n",
    "\n",
    "#division\n",
    "d=a/b\n",
    "print(\"answer for division is: \" ,d)"
   ]
  },
  {
   "cell_type": "code",
   "execution_count": null,
   "id": "8552ad77-9bc2-416d-8a04-7f69db37c819",
   "metadata": {},
   "outputs": [],
   "source": [
    "3. Write a Python program to find the area of a triangle?"
   ]
  },
  {
   "cell_type": "code",
   "execution_count": 3,
   "id": "fa4e19ac-a663-440a-a81a-b7800373a151",
   "metadata": {},
   "outputs": [
    {
     "name": "stdin",
     "output_type": "stream",
     "text": [
      "Enter the base of triangle 45\n",
      "Enter the height of triangle 67\n"
     ]
    },
    {
     "name": "stdout",
     "output_type": "stream",
     "text": [
      "The area of triangle is :  1507.5\n"
     ]
    }
   ],
   "source": [
    "#To find the area pf triangle\n",
    "\n",
    "b=int(input(\"Enter the base of triangle\"))\n",
    "h=int(input(\"Enter the height of triangle\"))\n",
    "result=(b*h)/2\n",
    "\n",
    "print(\"The area of triangle is : \", result)"
   ]
  },
  {
   "cell_type": "code",
   "execution_count": null,
   "id": "45995097-3ab0-44e7-a950-4ebe52b032fc",
   "metadata": {},
   "outputs": [],
   "source": [
    "4. Write a Python program to swap two variables?"
   ]
  },
  {
   "cell_type": "code",
   "execution_count": 4,
   "id": "d1941000-67f4-462c-a750-90fcc37d807e",
   "metadata": {},
   "outputs": [
    {
     "name": "stdout",
     "output_type": "stream",
     "text": [
      "value of x=  10\n",
      "value of y=  90\n"
     ]
    }
   ],
   "source": [
    "#swapping two variables\n",
    "\n",
    "x=90\n",
    "y=10\n",
    "\n",
    "x,y=y,x\n",
    "\n",
    "print(\"value of x= \", x)\n",
    "print(\"value of y= \", y)\n"
   ]
  },
  {
   "cell_type": "code",
   "execution_count": null,
   "id": "f2ddd2cc-7064-4b90-83fc-083ca7001da9",
   "metadata": {},
   "outputs": [],
   "source": [
    "5. Write a Python program to generate a random number?"
   ]
  },
  {
   "cell_type": "code",
   "execution_count": null,
   "id": "16220661-b14a-4ef0-a7d0-2160466dbaca",
   "metadata": {},
   "outputs": [],
   "source": []
  }
 ],
 "metadata": {
  "kernelspec": {
   "display_name": "Python 3 (ipykernel)",
   "language": "python",
   "name": "python3"
  },
  "language_info": {
   "codemirror_mode": {
    "name": "ipython",
    "version": 3
   },
   "file_extension": ".py",
   "mimetype": "text/x-python",
   "name": "python",
   "nbconvert_exporter": "python",
   "pygments_lexer": "ipython3",
   "version": "3.10.6"
  }
 },
 "nbformat": 4,
 "nbformat_minor": 5
}
